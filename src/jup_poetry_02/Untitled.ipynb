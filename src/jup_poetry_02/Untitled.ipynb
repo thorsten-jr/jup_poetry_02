{
 "cells": [
  {
   "cell_type": "code",
   "execution_count": null,
   "id": "c982bfd4-33a4-40da-90ca-1b429dcf4de0",
   "metadata": {},
   "outputs": [],
   "source": [
    "import numpy as np\n",
    "import pandas as pd\n",
    "import plotly.express as px\n",
    "\n",
    "file = 'BEG_03_ff_22_v10.xlsx'\n",
    "sheet = 'Performance'\n",
    "days = 275 # März bis November 2022\n",
    "require_cols1 = [0, 3, 4, 20] # für 39, 78 und 107. Alle mit 15° Neigung und ca. 180° Ausrichtung\n",
    "df1 = pd.read_excel(file, nrows = days, usecols = require_cols1, sheet_name = sheet, na_values = 0, converters= {'Datum': pd.to_datetime} )\n",
    "\n",
    "fig1 = px.line(df1, title = sheet, x=\"Datum\", y=df1.columns, hover_data={\"Datum\": \"|%B %d, %Y\"})\n",
    "#fig1 = px.scatter(df4, title = sheet, x=\"Datum\", y=df4.columns, hover_data={\"Datum\": \"|%B %d, %Y\"})\n",
    "fig1.update_xaxes(\n",
    "dtick=\"M1\",\n",
    "tickformat=\"%b\\n%Y\",\n",
    "ticklabelmode=\"period\")\n",
    "\n",
    "#fig1.show()\n"
   ]
  }
 ],
 "metadata": {
  "kernelspec": {
   "display_name": "Python 3 (ipykernel)",
   "language": "python",
   "name": "python3"
  },
  "language_info": {
   "codemirror_mode": {
    "name": "ipython",
    "version": 3
   },
   "file_extension": ".py",
   "mimetype": "text/x-python",
   "name": "python",
   "nbconvert_exporter": "python",
   "pygments_lexer": "ipython3",
   "version": "3.12.1"
  }
 },
 "nbformat": 4,
 "nbformat_minor": 5
}
